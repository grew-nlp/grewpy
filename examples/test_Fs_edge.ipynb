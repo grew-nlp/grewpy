{
 "cells": [
  {
   "cell_type": "code",
   "execution_count": 1,
   "metadata": {},
   "outputs": [
    {
     "name": "stderr",
     "output_type": "stream",
     "text": [
      "connected to port: 54922\n"
     ]
    }
   ],
   "source": [
    "import sys, os, json\n",
    "\n",
    "sys.path.insert(0, os.path.abspath(os.path.join( os.getcwd(), \"../\"))) # Use local grew lib\n",
    "\n",
    "from grewpy import Graph, CorpusDraft, Request, Corpus, request_counter \n",
    "from grewpy.graph import Fs_edge"
   ]
  },
  {
   "cell_type": "code",
   "execution_count": 2,
   "metadata": {},
   "outputs": [
    {
     "name": "stdout",
     "output_type": "stream",
     "text": [
      "{'deep': 'relcl', '1': 'mod'}\n",
      "Fs_edge({'deep': 'relcl', '1': 'mod'})\n",
      "mod@relcl\n"
     ]
    }
   ],
   "source": [
    "corpus = Corpus(\"resources/fr_pud-sud-test.conllu\") # Load a corpus\n",
    "sentence = corpus['n01001013']     # get a sentence form the corpus\n",
    "fs_edge = sentence.sucs['2'][0][1] # Pick some Fs_edge in the graph\n",
    "\n",
    "# There are several ways to print an fs_edge:\n",
    "print (str(fs_edge))      # by default, print as a dict\n",
    "print (repr(fs_edge))     # with repr, the contructor is added\n",
    "print (fs_edge.compact()) # a specific method to get the compact representation"
   ]
  },
  {
   "cell_type": "code",
   "execution_count": 3,
   "metadata": {},
   "outputs": [
    {
     "name": "stdout",
     "output_type": "stream",
     "text": [
      "dict     -->  {'1': 'subj', 'deep': 'expl'}\n",
      "compact  -->  subj@expl\n"
     ]
    }
   ],
   "source": [
    "# (1) Fs_edge can be build from a dictionary\n",
    "e = Fs_edge ({'1':'subj','deep':'expl'})\n",
    "print (\"dict     --> \", e)\n",
    "print (\"compact  --> \", e.compact ())"
   ]
  },
  {
   "cell_type": "code",
   "execution_count": 4,
   "metadata": {},
   "outputs": [
    {
     "name": "stdout",
     "output_type": "stream",
     "text": [
      "dict     -->  {'1': 'comp', '2': 'aux'}\n",
      "compact  -->  comp:aux\n"
     ]
    }
   ],
   "source": [
    "# (2) Fs_edge can be build from dictionary like string\n",
    "e = Fs_edge ('1=comp,2=aux')\n",
    "print (\"dict     --> \", e)\n",
    "print (\"compact  --> \", e.compact ())"
   ]
  },
  {
   "cell_type": "code",
   "execution_count": 5,
   "metadata": {},
   "outputs": [
    {
     "name": "stdout",
     "output_type": "stream",
     "text": [
      "dict     -->  {'type': 'm', '2': 'aux', '1': 'comp'}\n",
      "compact  -->  comp:aux/m\n"
     ]
    }
   ],
   "source": [
    "# (3) Fs_edge can be build from compact representation\n",
    "e = Fs_edge (\"comp:aux/m\")\n",
    "print (\"dict     --> \", e)\n",
    "print (\"compact  --> \", e.compact ())"
   ]
  },
  {
   "cell_type": "code",
   "execution_count": null,
   "metadata": {},
   "outputs": [],
   "source": []
  }
 ],
 "metadata": {
  "kernelspec": {
   "display_name": "Python 3",
   "language": "python",
   "name": "python3"
  },
  "language_info": {
   "codemirror_mode": {
    "name": "ipython",
    "version": 3
   },
   "file_extension": ".py",
   "mimetype": "text/x-python",
   "name": "python",
   "nbconvert_exporter": "python",
   "pygments_lexer": "ipython3",
   "version": "3.10.5"
  }
 },
 "nbformat": 4,
 "nbformat_minor": 2
}
